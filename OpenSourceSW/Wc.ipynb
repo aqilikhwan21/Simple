{
 "cells": [
  {
   "cell_type": "code",
   "execution_count": null,
   "id": "ffcf312b",
   "metadata": {},
   "outputs": [],
   "source": [
    "#실습 2\n",
    "def wordcount(filename):\n",
    "    try:\n",
    "        fin = open(filename, 'r')\n",
    "        text = fin.read()\n",
    "        fin.close()\n",
    "    except IOError:\n",
    "        print (\"File %s not found\", filename)\n",
    "    \n",
    "    number_of_characters = len(text)\n",
    "    \n",
    "    \n",
    "    number_of_lines = text.count('\\n') + 1\n",
    "    \n",
    "    wordlist = text.split(None)\n",
    "    number_of_words = len(wordlist)\n",
    "    print (\"Number of Line = %d \\nNumber of Words= %d \\nNumber of Characters=%d \\nFilename=%s\" % (number_of_lines, number_of_words, number_of_characters, filename))\n",
    "\n",
    "\n",
    "if __name__ == \"__main__\":\n",
    "    import sys\n",
    "           \n",
    "    if len(sys.argv) > 1:\n",
    "        \n",
    "        for filename in sys.argv[1:]:\n",
    "            wordcount(filename)\n",
    "    else:\n",
    "        print (\"usage wc textfile1 [textfile2 ...]\")s"
   ]
  }
 ],
 "metadata": {
  "kernelspec": {
   "display_name": "Python 3",
   "language": "python",
   "name": "python3"
  },
  "language_info": {
   "codemirror_mode": {
    "name": "ipython",
    "version": 3
   },
   "file_extension": ".py",
   "mimetype": "text/x-python",
   "name": "python",
   "nbconvert_exporter": "python",
   "pygments_lexer": "ipython3",
   "version": "3.9.5"
  }
 },
 "nbformat": 4,
 "nbformat_minor": 5
}
