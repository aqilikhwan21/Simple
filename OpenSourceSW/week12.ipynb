{
 "cells": [
  {
   "cell_type": "code",
   "execution_count": 35,
   "id": "f3233775",
   "metadata": {},
   "outputs": [
    {
     "name": "stdout",
     "output_type": "stream",
     "text": [
      "일교차가 가장 큰날:\n",
      "8/26/2020\n",
      "최조 기온이 가장 낮은 날:\n",
      "12/30/2020\n",
      "최고 기온이 가장 높은 날:\n",
      "6/22/2020\n"
     ]
    }
   ],
   "source": [
    "#실습 1\n",
    "import csv\n",
    "#-*- coding: cpp949 -*-\n",
    "f = open('seoul.csv')\n",
    "\n",
    "data = csv.reader(f)\n",
    "\n",
    "header = next(data)\n",
    "\n",
    "avg_temp = -999\n",
    "min_temp = 999\n",
    "max_temp = -999\n",
    "Highest_Average_date=''\n",
    "Lowest_date =''\n",
    "Hotest_date=''\n",
    "for row in data:\n",
    "    if row[2] == '':\n",
    "        row[2] = -999\n",
    "    \n",
    "    row[2] = float(row[2])\n",
    "    \n",
    "    if avg_temp < row[2]:\n",
    "        Highest_Average_date= row[0]\n",
    "        avg_temp = row[2]\n",
    "    \n",
    "    if row[3] == '':\n",
    "        row[3] = 999\n",
    "    \n",
    "    row[3] = float(row[3])\n",
    "    \n",
    "    if min_temp > row[3]:\n",
    "        Lowest_date= row[0]\n",
    "        min_temp = row[3]\n",
    "        \n",
    "    if row[-1] == '':\n",
    "        row[-1] = -999\n",
    "    \n",
    "    row[-1] = float(row[-1])\n",
    "    \n",
    "    if max_temp < row[-1]:\n",
    "        Hotest_date= row[0]\n",
    "        max_temp = row[-1]\n",
    "\n",
    "f.close()\n",
    "print(\"일교차가 가장 큰날:\\n%s\\n최조 기온이 가장 낮은 날:\\n%s\\n최고 기온이 가장 높은 날:\\n%s\" % (Highest_Average_date,Lowest_date,Hotest_date))\n",
    "    "
   ]
  },
  {
   "cell_type": "markdown",
   "id": "54bbfbb3",
   "metadata": {},
   "source": []
  },
  {
   "cell_type": "code",
   "execution_count": 84,
   "id": "7e5ac7af",
   "metadata": {},
   "outputs": [
    {
     "name": "stdout",
     "output_type": "stream",
     "text": [
      "==모든 노선 총합 통계==\n",
      "1. ??(2??) : 3167883명\n",
      "2. ??(2??) : 2799927명\n",
      "3. ???????(2??) : 2598153명\n"
     ]
    }
   ],
   "source": [
    "#실습 2\n",
    "import csv\n",
    "#-*- coding: cpp949 -*-\n",
    "f = open('subwayfee.csv')\n",
    "\n",
    "data = csv.reader(f)\n",
    "\n",
    "next(data)\n",
    "\n",
    "mx = [0] * 3\n",
    "mx_station =[''] * 3\n",
    "max = 0\n",
    "second = 0\n",
    "third = 0\n",
    "total = 0\n",
    "for row in data:\n",
    "    total = int(row[4].replace(',',\"\")) + int(row[5].replace(',',\"\"))\n",
    "    if max < total:\n",
    "        max = total\n",
    "        mx[0] = max\n",
    "        mx_station[0] =row[3]+\"(\"+row[1]+\")\"\n",
    "    if mx[0] != 0:\n",
    "        if ((second < total) and (total < mx[0])):\n",
    "            second = total\n",
    "            mx[1] = second\n",
    "            mx_station[1] =row[3]+\"(\"+row[1]+\")\"\n",
    "    if mx[1] != 0:\n",
    "        if ((third < total) and (total < mx[1])):\n",
    "            third = total\n",
    "            mx[2] = third\n",
    "            mx_station[2] =row[3]+\"(\"+row[1]+\")\"\n",
    "            \n",
    "print(\"==모든 노선 총합 통계==\")\n",
    "for i in range(0,3):\n",
    "    print(\"%d. %s : %d명\" % (i+1,mx_station[i],mx[i]))\n",
    "\n"
   ]
  }
 ],
 "metadata": {
  "kernelspec": {
   "display_name": "Python 3",
   "language": "python",
   "name": "python3"
  },
  "language_info": {
   "codemirror_mode": {
    "name": "ipython",
    "version": 3
   },
   "file_extension": ".py",
   "mimetype": "text/x-python",
   "name": "python",
   "nbconvert_exporter": "python",
   "pygments_lexer": "ipython3",
   "version": "3.8.8"
  }
 },
 "nbformat": 4,
 "nbformat_minor": 5
}
