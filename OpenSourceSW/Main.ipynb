{
 "cells": [
  {
   "cell_type": "code",
   "execution_count": 2,
   "id": "f443ba79",
   "metadata": {},
   "outputs": [
    {
     "name": "stdout",
     "output_type": "stream",
     "text": [
      "Requirement already satisfied: import_ipynb in c:\\users\\aqil ikhwan\\appdata\\local\\packages\\pythonsoftwarefoundation.python.3.9_qbz5n2kfra8p0\\localcache\\local-packages\\python39\\site-packages (0.1.3)\n"
     ]
    }
   ],
   "source": [
    "!pip install import_ipynb"
   ]
  },
  {
   "cell_type": "code",
   "execution_count": 3,
   "id": "6b22fcb1",
   "metadata": {},
   "outputs": [
    {
     "name": "stdout",
     "output_type": "stream",
     "text": [
      "importing Jupyter notebook from Calc.ipynb\n",
      "1 + 2 = 3 입니다.\n",
      "1 - 2 = -1 입니다.\n",
      "1 * 2 = 2 입니다.\n",
      "1 / 2 = 0.5 입니다.\n"
     ]
    }
   ],
   "source": [
    "#실습 3\n",
    "import import_ipynb\n",
    "\n",
    "from Calc import Calc\n",
    "\n",
    "calc = Calc()\n",
    "calc.sum(1,2)\n",
    "calc.sub(1,2)\n",
    "calc.multi(1,2)\n",
    "calc.divi(1,2)"
   ]
  },
  {
   "cell_type": "code",
   "execution_count": 2,
   "id": "efa158ad",
   "metadata": {},
   "outputs": [
    {
     "name": "stdout",
     "output_type": "stream",
     "text": [
      "계산식 입력: 1 + 2 - 3 * 4 - 5\n",
      "\n",
      "계산식 출역: 1+2-3*4-5=5\n"
     ]
    }
   ],
   "source": [
    "#실습 4\n",
    "# 1 + 2 - 3 * 4 - 5\n",
    "def calculate(inputs):\n",
    "    equation = inputs.split(\" \")\n",
    "    end = \"\"\n",
    "    for a in equation:\n",
    "        end +=a\n",
    "    end+=\"=\"\n",
    "    \n",
    "    stack = []\n",
    "    stack_opend = []\n",
    "    for a in range(len(equation)):\n",
    "        if equation[a] in ('*', '/','+','-'):\n",
    "            stack_opend.append(equation[a])\n",
    "            continue\n",
    "            \n",
    "        stack.append(equation[a])\n",
    "            \n",
    "        if not stack_opend:\n",
    "            print(\"\")\n",
    "        else:\n",
    "            op1=int(stack.pop())\n",
    "            op2=int(stack.pop())\n",
    "            opend = stack_opend.pop()\n",
    "            if opend == '+':\n",
    "                result = op1 + op2\n",
    "                stack.append(result)\n",
    "            elif opend == '-':\n",
    "                result = op1 - op2\n",
    "                stack.append(result)\n",
    "            elif opend == '/':\n",
    "                result = op1 / op2\n",
    "                stack.append(result)\n",
    "            elif opend == '*':\n",
    "                result = op1 * op2\n",
    "                stack.append(result)\n",
    "                \n",
    "    end +=str(stack.pop())\n",
    "    print(\"계산식 출역:\",end)\n",
    "if __name__ ==\"__main__\":\n",
    "    calculate(input(\"계산식 입력: \"))"
   ]
  }
 ],
 "metadata": {
  "kernelspec": {
   "display_name": "Python 3",
   "language": "python",
   "name": "python3"
  },
  "language_info": {
   "codemirror_mode": {
    "name": "ipython",
    "version": 3
   },
   "file_extension": ".py",
   "mimetype": "text/x-python",
   "name": "python",
   "nbconvert_exporter": "python",
   "pygments_lexer": "ipython3",
   "version": "3.9.5"
  }
 },
 "nbformat": 4,
 "nbformat_minor": 5
}
