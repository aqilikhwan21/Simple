{
 "cells": [
  {
   "cell_type": "code",
   "execution_count": 10,
   "id": "f07533b9",
   "metadata": {},
   "outputs": [
    {
     "name": "stdout",
     "output_type": "stream",
     "text": [
      "y=3x^2+5x+3\n",
      "Input X: 5\n",
      "y =  253\n"
     ]
    }
   ],
   "source": [
    "#실습문제 1변\n",
    "str = \"y=3x^2+5x+3\"\n",
    "print(str)\n",
    "x = int(input(\"Input X: \"))\n",
    "y = pow(3*5,2)+5*x+3\n",
    "print(\"y = \",y)"
   ]
  },
  {
   "cell_type": "code",
   "execution_count": 14,
   "id": "e0bebb0b",
   "metadata": {},
   "outputs": [
    {
     "name": "stdout",
     "output_type": "stream",
     "text": [
      "Please Input Radius: 10\n",
      "Circle radius = 10, Circle Diameter = 20.00, Circle Perimeter = 62.80\n"
     ]
    }
   ],
   "source": [
    "#실습문제 2변\n",
    "pi = 3.14\n",
    "radius = int(input(\"Please Input Radius: \"))\n",
    "perimeter = 2*pi*radius\n",
    "diameter = 2*radius\n",
    "\n",
    "str=\"Circle radius = {0:d}, Circle Diameter = {1:.2f}, Circle Perimeter = {2:.2f}\".format(radius,diameter,perimeter)\n",
    "print(str)"
   ]
  }
 ],
 "metadata": {
  "kernelspec": {
   "display_name": "Python 3",
   "language": "python",
   "name": "python3"
  },
  "language_info": {
   "codemirror_mode": {
    "name": "ipython",
    "version": 3
   },
   "file_extension": ".py",
   "mimetype": "text/x-python",
   "name": "python",
   "nbconvert_exporter": "python",
   "pygments_lexer": "ipython3",
   "version": "3.9.5"
  }
 },
 "nbformat": 4,
 "nbformat_minor": 5
}
